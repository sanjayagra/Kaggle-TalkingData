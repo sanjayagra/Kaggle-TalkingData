{
 "cells": [
  {
   "cell_type": "code",
   "execution_count": 2,
   "metadata": {
    "collapsed": true
   },
   "outputs": [],
   "source": [
    "import pandas as pd\n",
    "import numpy as np"
   ]
  },
  {
   "cell_type": "code",
   "execution_count": 6,
   "metadata": {
    "collapsed": true
   },
   "outputs": [],
   "source": [
    "# one way counts\n",
    "ip = pd.read_feather('../data/data/features/ip.feather')\n",
    "os = pd.read_feather('../data/data/features/os.feather')\n",
    "device = pd.read_feather('../data/data/features/device.feather')\n",
    "app = pd.read_feather('../data/data/features/app.feather')\n",
    "channel = pd.read_feather('../data/data/features/channel.feather')\n",
    "# n-way counts\n",
    "ip_day_hour = pd.read_feather('../data/data/features/ip_day_hour.feather')\n",
    "ip_device = pd.read_feather('../data/data/features/ip_device.feather')\n",
    "ip_app = pd.read_feather('../data/data/features/ip_app.feather')\n",
    "ip_app_os = pd.read_feather('../data/data/features/ip_app_os.feather')\n",
    "app_channel = pd.read_feather('../data/data/features/app_channel.feather')\n",
    "user = pd.read_feather('../data/data/features/user_count.feather')\n",
    "user_app = pd.read_feather('../data/data/features/user_app_count.feather')\n",
    "# running counts\n",
    "run_train = pd.read_feather('../data/data/features/run_count_train.feather')\n",
    "run_app_train = pd.read_feather('../data/data/features/run_app_count_train.feather')\n",
    "run_test = pd.read_feather('../data/data/features/run_count_test.feather')\n",
    "run_app_test = pd.read_feather('../data/data/features/run_app_count_test.feather')\n",
    "next_click_train = pd.read_feather('../data/data/features/next_click_train.feather')\n",
    "next_click_test = pd.read_feather('../data/data/features/next_click_test.feather')"
   ]
  },
  {
   "cell_type": "code",
   "execution_count": 7,
   "metadata": {
    "collapsed": true
   },
   "outputs": [],
   "source": [
    "def merge(data, mode='train'):\n",
    "    print('merge starts..', data.shape)\n",
    "    # one way counts\n",
    "    data = data.merge(ip, on='ip')\n",
    "    data = data.merge(os, on='os')\n",
    "    data = data.merge(app, on='app')\n",
    "    data = data.merge(channel, on='channel')\n",
    "    data = data.merge(device, on='device')\n",
    "    print('one way merge complete...', data.shape)\n",
    "    # n way counts\n",
    "    data = data.merge(ip_day_hour, on=['ip','day','hour'])\n",
    "    data = data.merge(ip_device, on=['ip','device'])\n",
    "    data = data.merge(ip_app, on=['ip','app'])\n",
    "    data = data.merge(ip_app_os, on=['ip','app','os'])\n",
    "    data = data.merge(app_channel, on=['app','channel'])\n",
    "    print('n way merge complete...', data.shape)\n",
    "    # user counts\n",
    "    data = data.merge(user, on=['ip','device','os'])\n",
    "    data = data.merge(user_app, on=['ip','device','os','app'])\n",
    "    print('user counts merge complete...', data.shape)\n",
    "    # run counts\n",
    "    if mode == 'train':\n",
    "        data = data.merge(run_train, on='click_id')\n",
    "        data = data.merge(run_app_train, on='click_id')\n",
    "        data = data.merge(next_click_train, on='click_id')\n",
    "        print('id merge complete...', data.shape)\n",
    "    else:\n",
    "        data = data.merge(run_test, on='click_id', how='left')\n",
    "        data = data.merge(run_app_test, on='click_id', how='left')\n",
    "        data = data.merge(next_click_test, on='click_id', how='left')\n",
    "        print('id merge complete...', data.shape)\n",
    "    data = data.reset_index(drop=True)\n",
    "    return data"
   ]
  },
  {
   "cell_type": "code",
   "execution_count": 15,
   "metadata": {},
   "outputs": [
    {
     "name": "stdout",
     "output_type": "stream",
     "text": [
      "merge starts.. (88734191, 9)\n",
      "one way merge complete... (88734191, 14)\n",
      "n way merge complete... (88734191, 19)\n",
      "user counts merge complete... (88734191, 21)\n",
      "id merge complete... (88734190, 24)\n"
     ]
    }
   ],
   "source": [
    "train_data = pd.read_feather('../data/data/files/train_data.feather')\n",
    "train_data = merge(train_data)\n",
    "train_data.to_feather('../data/data/models/train_data.feather')\n",
    "del train_data"
   ]
  },
  {
   "cell_type": "code",
   "execution_count": 10,
   "metadata": {},
   "outputs": [
    {
     "name": "stdout",
     "output_type": "stream",
     "text": [
      "merge starts.. (20895641, 9)\n",
      "one way merge complete... (20895641, 14)\n",
      "n way merge complete... (20895641, 19)\n",
      "user counts merge complete... (20895641, 21)\n",
      "id merge complete... (20895641, 24)\n"
     ]
    }
   ],
   "source": [
    "valid_data = pd.read_feather('../data/data/files/valid_data.feather')\n",
    "valid_data = merge(valid_data)\n",
    "valid_data.to_feather('../data/data/models/valid_data.feather')\n",
    "del valid_data"
   ]
  },
  {
   "cell_type": "code",
   "execution_count": 14,
   "metadata": {
    "collapsed": true
   },
   "outputs": [],
   "source": [
    "score_data = pd.read_feather('../data/data/files/score_data.feather')\n",
    "score_data = merge(score_data,'other')\n",
    "score_data.to_feather('../data/data/models/score_data.feather')\n",
    "del score_data"
   ]
  },
  {
   "cell_type": "code",
   "execution_count": null,
   "metadata": {
    "collapsed": true
   },
   "outputs": [],
   "source": []
  }
 ],
 "metadata": {
  "kernelspec": {
   "display_name": "Python 3",
   "language": "python",
   "name": "python3"
  },
  "language_info": {
   "codemirror_mode": {
    "name": "ipython",
    "version": 3
   },
   "file_extension": ".py",
   "mimetype": "text/x-python",
   "name": "python",
   "nbconvert_exporter": "python",
   "pygments_lexer": "ipython3",
   "version": "3.6.1"
  }
 },
 "nbformat": 4,
 "nbformat_minor": 2
}
