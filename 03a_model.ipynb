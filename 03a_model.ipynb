{
 "cells": [
  {
   "cell_type": "code",
   "execution_count": 1,
   "metadata": {},
   "outputs": [
    {
     "name": "stderr",
     "output_type": "stream",
     "text": [
      "/home/ubuntu/anaconda3/envs/python3/lib/python3.6/site-packages/matplotlib/__init__.py:1067: UserWarning: Duplicate key in file \"/home/ubuntu/.config/matplotlib/matplotlibrc\", line #2\n",
      "  (fname, cnt))\n",
      "/home/ubuntu/anaconda3/envs/python3/lib/python3.6/site-packages/matplotlib/__init__.py:1067: UserWarning: Duplicate key in file \"/home/ubuntu/.config/matplotlib/matplotlibrc\", line #3\n",
      "  (fname, cnt))\n"
     ]
    }
   ],
   "source": [
    "import pandas as pd\n",
    "import numpy as np\n",
    "import lightgbm as lgb"
   ]
  },
  {
   "cell_type": "code",
   "execution_count": 2,
   "metadata": {
    "collapsed": true
   },
   "outputs": [],
   "source": [
    "categorical = ['ip','app','channel','device','os']"
   ]
  },
  {
   "cell_type": "code",
   "execution_count": 4,
   "metadata": {
    "collapsed": true
   },
   "outputs": [],
   "source": [
    "train_data = pd.read_feather('../data/data/models/train_data.feather', nthreads=15)\n",
    "train_labels = train_data['is_attributed'].values\n",
    "train_data = train_data.drop(['is_attributed','day','click_id'], axis=1)"
   ]
  },
  {
   "cell_type": "code",
   "execution_count": 5,
   "metadata": {
    "collapsed": true
   },
   "outputs": [],
   "source": [
    "valid_data = pd.read_feather('../data/data/models/valid_data.feather')\n",
    "valid_labels = valid_data['is_attributed'].values\n",
    "valid_data = valid_data.drop(['is_attributed','day','click_id'], axis=1)"
   ]
  },
  {
   "cell_type": "code",
   "execution_count": 6,
   "metadata": {
    "collapsed": true
   },
   "outputs": [],
   "source": [
    "train_matrix = lgb.Dataset(train_data.values, label=train_labels,feature_name=list(train_data.columns),\n",
    "                        categorical_feature=categorical)\n",
    "valid_matrix = lgb.Dataset(valid_data.values, label=valid_labels,feature_name=list(valid_data.columns),\n",
    "                        categorical_feature=categorical)"
   ]
  },
  {
   "cell_type": "code",
   "execution_count": 7,
   "metadata": {
    "collapsed": true
   },
   "outputs": [],
   "source": [
    "booster = {}\n",
    "booster['boosting_type'] = 'gbdt'\n",
    "booster['objective'] = 'binary'\n",
    "booster['learning_rate'] = 0.1\n",
    "booster['num_leaves'] = 64\n",
    "booster['max_depth'] = 5\n",
    "booster['min_child_samples'] = 100\n",
    "booster['max_bin'] = 100\n",
    "booster['subsample'] = 0.7\n",
    "booster['subsample_freq'] = 1\n",
    "booster['colsample_bytree'] = 0.7\n",
    "booster['min_child_weight'] = 0\n",
    "booster['min_split_gain'] = 0\n",
    "booster['nthread'] = 15\n",
    "booster['verbose'] = 0\n",
    "booster['scale_pos_weight'] = 99.7\n",
    "booster['metric'] = 'auc'"
   ]
  },
  {
   "cell_type": "code",
   "execution_count": 8,
   "metadata": {
    "collapsed": true
   },
   "outputs": [],
   "source": [
    "params = {}\n",
    "params['params'] = booster\n",
    "params['train_set'] = train_matrix\n",
    "params['valid_sets'] = [valid_matrix]\n",
    "params['num_boost_round'] = 1000\n",
    "params['early_stopping_rounds'] = 50\n",
    "params['verbose_eval'] = 100"
   ]
  },
  {
   "cell_type": "code",
   "execution_count": 9,
   "metadata": {},
   "outputs": [
    {
     "name": "stderr",
     "output_type": "stream",
     "text": [
      "/home/ubuntu/anaconda3/envs/python3/lib/python3.6/site-packages/lightgbm/basic.py:1036: UserWarning: Using categorical_feature in Dataset.\n",
      "  warnings.warn('Using categorical_feature in Dataset.')\n",
      "/home/ubuntu/anaconda3/envs/python3/lib/python3.6/site-packages/lightgbm/basic.py:681: UserWarning: categorical_feature in param dict is overrided.\n",
      "  warnings.warn('categorical_feature in param dict is overrided.')\n"
     ]
    },
    {
     "name": "stdout",
     "output_type": "stream",
     "text": [
      "Training until validation scores don't improve for 50 rounds.\n",
      "[100]\tvalid_0's auc: 0.981495\n",
      "[200]\tvalid_0's auc: 0.982127\n",
      "[300]\tvalid_0's auc: 0.982436\n",
      "[400]\tvalid_0's auc: 0.982525\n",
      "[500]\tvalid_0's auc: 0.982611\n",
      "Early stopping, best iteration is:\n",
      "[528]\tvalid_0's auc: 0.982647\n"
     ]
    }
   ],
   "source": [
    "model = lgb.train(**params)"
   ]
  },
  {
   "cell_type": "code",
   "execution_count": 10,
   "metadata": {
    "collapsed": true
   },
   "outputs": [],
   "source": [
    "model.save_model('../data/data/models/lightgbm.model')"
   ]
  },
  {
   "cell_type": "code",
   "execution_count": 11,
   "metadata": {},
   "outputs": [
    {
     "data": {
      "text/html": [
       "<div>\n",
       "<style scoped>\n",
       "    .dataframe tbody tr th:only-of-type {\n",
       "        vertical-align: middle;\n",
       "    }\n",
       "\n",
       "    .dataframe tbody tr th {\n",
       "        vertical-align: top;\n",
       "    }\n",
       "\n",
       "    .dataframe thead th {\n",
       "        text-align: right;\n",
       "    }\n",
       "</style>\n",
       "<table border=\"1\" class=\"dataframe\">\n",
       "  <thead>\n",
       "    <tr style=\"text-align: right;\">\n",
       "      <th></th>\n",
       "      <th>feature</th>\n",
       "      <th>importance</th>\n",
       "    </tr>\n",
       "  </thead>\n",
       "  <tbody>\n",
       "    <tr>\n",
       "      <th>5</th>\n",
       "      <td>channel</td>\n",
       "      <td>1.000000</td>\n",
       "    </tr>\n",
       "    <tr>\n",
       "      <th>1</th>\n",
       "      <td>ip</td>\n",
       "      <td>0.885978</td>\n",
       "    </tr>\n",
       "    <tr>\n",
       "      <th>3</th>\n",
       "      <td>os</td>\n",
       "      <td>0.703542</td>\n",
       "    </tr>\n",
       "    <tr>\n",
       "      <th>2</th>\n",
       "      <td>app</td>\n",
       "      <td>0.698205</td>\n",
       "    </tr>\n",
       "    <tr>\n",
       "      <th>8</th>\n",
       "      <td>app_cnt</td>\n",
       "      <td>0.609413</td>\n",
       "    </tr>\n",
       "    <tr>\n",
       "      <th>20</th>\n",
       "      <td>next_click</td>\n",
       "      <td>0.568171</td>\n",
       "    </tr>\n",
       "    <tr>\n",
       "      <th>13</th>\n",
       "      <td>ip_app_cnt</td>\n",
       "      <td>0.324600</td>\n",
       "    </tr>\n",
       "    <tr>\n",
       "      <th>0</th>\n",
       "      <td>hour</td>\n",
       "      <td>0.315866</td>\n",
       "    </tr>\n",
       "    <tr>\n",
       "      <th>6</th>\n",
       "      <td>ip_cnt</td>\n",
       "      <td>0.304221</td>\n",
       "    </tr>\n",
       "    <tr>\n",
       "      <th>12</th>\n",
       "      <td>ip_device_cnt</td>\n",
       "      <td>0.287239</td>\n",
       "    </tr>\n",
       "  </tbody>\n",
       "</table>\n",
       "</div>"
      ],
      "text/plain": [
       "          feature  importance\n",
       "5         channel    1.000000\n",
       "1              ip    0.885978\n",
       "3              os    0.703542\n",
       "2             app    0.698205\n",
       "8         app_cnt    0.609413\n",
       "20     next_click    0.568171\n",
       "13     ip_app_cnt    0.324600\n",
       "0            hour    0.315866\n",
       "6          ip_cnt    0.304221\n",
       "12  ip_device_cnt    0.287239"
      ]
     },
     "execution_count": 11,
     "metadata": {},
     "output_type": "execute_result"
    }
   ],
   "source": [
    "importance = model.feature_importance(importance_type='split')\n",
    "importance = pd.DataFrame(importance, columns=['importance'])\n",
    "importance['feature'] = list(train_data.columns)\n",
    "importance['importance'] = importance['importance'] / importance['importance'].max()\n",
    "importance = importance[['feature', 'importance']]\n",
    "importance = importance.sort_values(by='importance', ascending=False)\n",
    "importance.head(10)"
   ]
  },
  {
   "cell_type": "code",
   "execution_count": null,
   "metadata": {
    "collapsed": true
   },
   "outputs": [],
   "source": []
  }
 ],
 "metadata": {
  "kernelspec": {
   "display_name": "Python 3",
   "language": "python",
   "name": "python3"
  },
  "language_info": {
   "codemirror_mode": {
    "name": "ipython",
    "version": 3
   },
   "file_extension": ".py",
   "mimetype": "text/x-python",
   "name": "python",
   "nbconvert_exporter": "python",
   "pygments_lexer": "ipython3",
   "version": "3.6.1"
  }
 },
 "nbformat": 4,
 "nbformat_minor": 2
}
